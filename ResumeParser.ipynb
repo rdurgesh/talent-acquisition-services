{
 "cells": [
  {
   "cell_type": "markdown",
   "id": "1a81f8f3",
   "metadata": {},
   "source": [
    "## Here, we are reading the resumes from google cloud storage, parses the same with pyresparser, extract details and save it in an excel file"
   ]
  },
  {
   "cell_type": "markdown",
   "id": "ca0a3906",
   "metadata": {},
   "source": [
    "### Import python libraries required for processing"
   ]
  },
  {
   "cell_type": "code",
   "execution_count": 1,
   "id": "83c7af46",
   "metadata": {},
   "outputs": [],
   "source": [
    "import pandas as pd\n",
    "from sklearn.feature_extraction.text import TfidfVectorizer\n",
    "import nltk\n",
    "from pyresparser import ResumeParser\n",
    "import os\n",
    "from docx import Document\n",
    "import io\n",
    "import uuid\n",
    "import concurrent.futures\n",
    "from pathlib import Path\n",
    "from google.cloud import storage\n",
    "import fitz  # PyMuPDF\n",
    "from itertools import islice\n",
    "import warnings\n",
    "warnings.filterwarnings(\"ignore\")"
   ]
  },
  {
   "cell_type": "markdown",
   "id": "4c375440-6fdb-4baf-b7c9-182f68b46fc6",
   "metadata": {},
   "source": [
    "#### python commands to run in the order to install required libraries\n",
    "pip install python-docx\n",
    "\n",
    "pip install docx\n",
    "\n",
    "pip install nltk\n",
    "\n",
    "pip install spacy==2.3.5\n",
    "\n",
    "pip install https://github.com/explosion/spacy-models/releases/download/en_core_web_sm-2.3.1/en_core_web_sm-2.3.1.tar.gz\n",
    "\n",
    "pip install pyresparser\n",
    "\n",
    "pip install --upgrade google-cloud-storage\n",
    "\n",
    "pip install pypdf\n",
    "\n",
    "pip install PyMuPDF\n",
    "\n",
    "import nltk\n",
    "\n",
    "nltk.download('stopwords')"
   ]
  },
  {
   "cell_type": "code",
   "execution_count": 2,
   "id": "9be18d26",
   "metadata": {},
   "outputs": [
    {
     "data": {
      "text/plain": [
       "'hackathon1415'"
      ]
     },
     "execution_count": 2,
     "metadata": {},
     "output_type": "execute_result"
    }
   ],
   "source": [
    "input_path = \"https://console.cloud.google.com/storage/browser/hackathon1415\"\n",
    "bucket_name = input_path.split(\"/\")[-1]\n",
    "bucket_name"
   ]
  },
  {
   "cell_type": "code",
   "execution_count": 3,
   "id": "3cc9c26c-d30e-43ce-b9ca-249bf3f874e7",
   "metadata": {},
   "outputs": [],
   "source": [
    "# Function to extract text from PDF using PyMuPDF\n",
    "def extract_text_from_pdf(pdf_bytes):\n",
    "    text = \"\"\n",
    "    with fitz.open(\"pdf\", pdf_bytes) as pdf:\n",
    "        for page in pdf:\n",
    "            text += page.get_text()\n",
    "    return text"
   ]
  },
  {
   "cell_type": "code",
   "execution_count": 4,
   "id": "5b10114e-8d56-4104-957b-1c1f86ef4d6c",
   "metadata": {},
   "outputs": [],
   "source": [
    "# Function to parse resume using Pyresparser\n",
    "def parse_resume(text):\n",
    "    temp_file_path = str(uuid.uuid4()) + '.docx'\n",
    "    doc = Document()\n",
    "    doc.add_paragraph(text)\n",
    "    doc.save(temp_file_path)\n",
    "\n",
    "    try:\n",
    "        data = ResumeParser(temp_file_path).get_extracted_data()\n",
    "        return data\n",
    "    finally:\n",
    "        # Clean up the temporary file\n",
    "        os.unlink(temp_file_path)"
   ]
  },
  {
   "cell_type": "code",
   "execution_count": 5,
   "id": "ea6274c6-92b5-4e23-b622-275431210ee8",
   "metadata": {},
   "outputs": [],
   "source": [
    "# Function to process a single blob (resume)\n",
    "def process_blob(blob):\n",
    "    resume_bytes = blob.download_as_bytes()\n",
    "    text = extract_text_from_pdf(resume_bytes)\n",
    "    data = parse_resume(text)\n",
    "    skills = ', '.join(data.get('skills', []))\n",
    "    data_dict = {\n",
    "        'name': blob.name,\n",
    "        'skills': skills\n",
    "    }\n",
    "    return data_dict"
   ]
  },
  {
   "cell_type": "code",
   "execution_count": 6,
   "id": "c35a22d7-1347-4580-8c25-19a68c6d8ea6",
   "metadata": {},
   "outputs": [],
   "source": [
    "path_to_private_key = 'fifth-compass-415612-76f634511b19.json'\n",
    "client = storage.Client.from_service_account_json(json_credentials_path=path_to_private_key)\n",
    "bucket = client.bucket(bucket_name)\n",
    "\n",
    "str_folder_name_on_gcs = 'RESUME/data/'\n",
    "\n",
    "# Create the directory locally\n",
    "Path(str_folder_name_on_gcs).mkdir(parents=True, exist_ok=True)\n",
    "\n",
    "blobs = bucket.list_blobs(prefix=str_folder_name_on_gcs)\n",
    "\n",
    "# Limit to the first 100 blobs\n",
    "limited_blobs = islice(blobs, 100)\n",
    "\n",
    "# Use concurrent.futures for parallel processing\n",
    "with concurrent.futures.ThreadPoolExecutor() as executor:\n",
    "    data_dicts = list(executor.map(process_blob, limited_blobs))\n"
   ]
  },
  {
   "cell_type": "code",
   "execution_count": 7,
   "id": "9bdaeec9",
   "metadata": {},
   "outputs": [
    {
     "name": "stdout",
     "output_type": "stream",
     "text": [
      "Data written to hackathon1415_resume_data.xlsx\n"
     ]
    },
    {
     "data": {
      "text/html": [
       "<div>\n",
       "<style scoped>\n",
       "    .dataframe tbody tr th:only-of-type {\n",
       "        vertical-align: middle;\n",
       "    }\n",
       "\n",
       "    .dataframe tbody tr th {\n",
       "        vertical-align: top;\n",
       "    }\n",
       "\n",
       "    .dataframe thead th {\n",
       "        text-align: right;\n",
       "    }\n",
       "</style>\n",
       "<table border=\"1\" class=\"dataframe\">\n",
       "  <thead>\n",
       "    <tr style=\"text-align: right;\">\n",
       "      <th></th>\n",
       "      <th>name</th>\n",
       "      <th>skills</th>\n",
       "    </tr>\n",
       "  </thead>\n",
       "  <tbody>\n",
       "    <tr>\n",
       "      <th>0</th>\n",
       "      <td>RESUME/data/10247517.pdf</td>\n",
       "      <td>Analysis, Schedules, Requests, Programming, Wi...</td>\n",
       "    </tr>\n",
       "    <tr>\n",
       "      <th>1</th>\n",
       "      <td>RESUME/data/10265057.pdf</td>\n",
       "      <td>Requests, Programming, Python, Reports, Data c...</td>\n",
       "    </tr>\n",
       "    <tr>\n",
       "      <th>2</th>\n",
       "      <td>RESUME/data/10399912.pdf</td>\n",
       "      <td>Schedules, Correspondence, Reports, Customer s...</td>\n",
       "    </tr>\n",
       "    <tr>\n",
       "      <th>3</th>\n",
       "      <td>RESUME/data/10549585.pdf</td>\n",
       "      <td>Analysis, Retention, Windows, Analytical, Sche...</td>\n",
       "    </tr>\n",
       "    <tr>\n",
       "      <th>4</th>\n",
       "      <td>RESUME/data/10553553.pdf</td>\n",
       "      <td>Analysis, Windows, Security, Servers, Database...</td>\n",
       "    </tr>\n",
       "  </tbody>\n",
       "</table>\n",
       "</div>"
      ],
      "text/plain": [
       "                       name                                             skills\n",
       "0  RESUME/data/10247517.pdf  Analysis, Schedules, Requests, Programming, Wi...\n",
       "1  RESUME/data/10265057.pdf  Requests, Programming, Python, Reports, Data c...\n",
       "2  RESUME/data/10399912.pdf  Schedules, Correspondence, Reports, Customer s...\n",
       "3  RESUME/data/10549585.pdf  Analysis, Retention, Windows, Analytical, Sche...\n",
       "4  RESUME/data/10553553.pdf  Analysis, Windows, Security, Servers, Database..."
      ]
     },
     "execution_count": 7,
     "metadata": {},
     "output_type": "execute_result"
    }
   ],
   "source": [
    "# Write the data dictionary to an Excel file\n",
    "df = pd.DataFrame(data_dicts)\n",
    "excel_file = bucket_name + '_resume_data.xlsx'\n",
    "df.to_excel(excel_file, index=False)\n",
    "print(f\"Data written to {excel_file}\")\n",
    "df.head()"
   ]
  },
  {
   "cell_type": "code",
   "execution_count": null,
   "id": "64d8b7f5",
   "metadata": {},
   "outputs": [],
   "source": []
  },
  {
   "cell_type": "code",
   "execution_count": null,
   "id": "77ba5c1f",
   "metadata": {},
   "outputs": [],
   "source": []
  }
 ],
 "metadata": {
  "kernelspec": {
   "display_name": "Python 3 (ipykernel)",
   "language": "python",
   "name": "python3"
  },
  "language_info": {
   "codemirror_mode": {
    "name": "ipython",
    "version": 3
   },
   "file_extension": ".py",
   "mimetype": "text/x-python",
   "name": "python",
   "nbconvert_exporter": "python",
   "pygments_lexer": "ipython3",
   "version": "3.11.5"
  }
 },
 "nbformat": 4,
 "nbformat_minor": 5
}
